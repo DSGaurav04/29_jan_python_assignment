{
 "cells": [
  {
   "cell_type": "markdown",
   "id": "05eb18e4",
   "metadata": {},
   "source": [
    "# 29th Jan Python Assignment"
   ]
  },
  {
   "cell_type": "markdown",
   "id": "bdac3dcd",
   "metadata": {},
   "source": [
    "# Q1. Who developed Python Programming Language? \n"
   ]
  },
  {
   "cell_type": "markdown",
   "id": "375228a3",
   "metadata": {},
   "source": [
    "Answer:- Python programming language was created by Guido van Rossum."
   ]
  },
  {
   "cell_type": "markdown",
   "id": "b880e819",
   "metadata": {},
   "source": [
    "#  Q2.Which type of Programming does Python support? "
   ]
  },
  {
   "cell_type": "markdown",
   "id": "8b0bff1f",
   "metadata": {},
   "source": [
    "Answer:- Imperative Programming:- Writing sequences of instructions.\n",
    "Object-Oriented Programming (OOP):- Creating classes and objects.\n",
    "Functional Programming:- Using higher-order functions and lambda expressions.\n",
    "Procedural Programming:- Organizing code into functions and procedures.\n",
    "Scripting:- Automating tasks and system administration.\n",
    "Dynamic Programming:- Variables don't require explicit type declaration.\n",
    "Structured Programming:- Organizing code with functions and control structures.\n",
    "Modular Programming:- Organizing code into reusable modules."
   ]
  },
  {
   "cell_type": "markdown",
   "id": "95898512",
   "metadata": {},
   "source": [
    "# Q3.Is Python case sensitive when dealing with identifiers? \n"
   ]
  },
  {
   "cell_type": "markdown",
   "id": "2240cc35",
   "metadata": {},
   "source": [
    "Answer:- Yes, Python is case-sensitive when it comes to identifiers. This means that differentiating between uppercase and lowercase letters is significant when you're using variable names, function names, class names, and other identifiers in your Python code. "
   ]
  },
  {
   "cell_type": "markdown",
   "id": "4ae2f775",
   "metadata": {},
   "source": [
    "# Q4.What is the correct extension of the Python file? \n"
   ]
  },
  {
   "cell_type": "markdown",
   "id": "ff807be2",
   "metadata": {},
   "source": [
    "Answer:- The correct extension for a Python source code file is 'py'. \n"
   ]
  },
  {
   "cell_type": "markdown",
   "id": "d8672283",
   "metadata": {},
   "source": [
    "# Q5.Is Python code compiled or interpreted? \n"
   ]
  },
  {
   "cell_type": "markdown",
   "id": "c5f118f3",
   "metadata": {},
   "source": [
    "Answer:- In short, Python code is both compiled and interpreted. It's compiled into bytecode, which is then executed by the Python interpreter. This combination of compilation and interpretation allows for platform independence and runtime flexibility."
   ]
  },
  {
   "cell_type": "markdown",
   "id": "adf8999e",
   "metadata": {},
   "source": [
    "# Q6.Name a few blocks of code used to define in Python language? "
   ]
  },
  {
   "cell_type": "code",
   "execution_count": 26,
   "id": "08981ec6",
   "metadata": {},
   "outputs": [],
   "source": [
    "#Answer:- \n",
    "\n",
    "\n",
    "detail = \"Gaurav\""
   ]
  },
  {
   "cell_type": "code",
   "execution_count": 9,
   "id": "d8b4f229",
   "metadata": {},
   "outputs": [
    {
     "data": {
      "text/plain": [
       "'Gaurav Hello'"
      ]
     },
     "execution_count": 9,
     "metadata": {},
     "output_type": "execute_result"
    }
   ],
   "source": [
    "detail + \" Hello\""
   ]
  },
  {
   "cell_type": "code",
   "execution_count": 14,
   "id": "3f12d122",
   "metadata": {},
   "outputs": [
    {
     "name": "stdout",
     "output_type": "stream",
     "text": [
      "sum of all number = 190\n"
     ]
    }
   ],
   "source": [
    "total = 0\n",
    "for i in range(20):\n",
    "    total = total + i\n",
    "print(\"sum of all number =\" , total)"
   ]
  },
  {
   "cell_type": "code",
   "execution_count": 20,
   "id": "ad819a25",
   "metadata": {},
   "outputs": [],
   "source": [
    "def gau(a,b):\n",
    "    print(a+b)"
   ]
  },
  {
   "cell_type": "code",
   "execution_count": 21,
   "id": "75d9d1a0",
   "metadata": {},
   "outputs": [
    {
     "name": "stdout",
     "output_type": "stream",
     "text": [
      "3\n"
     ]
    }
   ],
   "source": [
    "gau(1,2)"
   ]
  },
  {
   "cell_type": "code",
   "execution_count": 22,
   "id": "11cefd07",
   "metadata": {},
   "outputs": [],
   "source": [
    "class gau:\n",
    "    \n",
    "    def __init__(self, name , age , college):\n",
    "        self.name = name\n",
    "        self.age = age \n",
    "        self.college = college\n",
    "        \n",
    "    def detail(self):\n",
    "        return self.name , self.age , self.college"
   ]
  },
  {
   "cell_type": "code",
   "execution_count": 24,
   "id": "ff2ce05e",
   "metadata": {},
   "outputs": [],
   "source": [
    "gaurav = gau(\"Gaurav\" , 20 , \"JD college\")"
   ]
  },
  {
   "cell_type": "code",
   "execution_count": 25,
   "id": "5694d15e",
   "metadata": {},
   "outputs": [
    {
     "data": {
      "text/plain": [
       "('Gaurav', 20, 'JD college')"
      ]
     },
     "execution_count": 25,
     "metadata": {},
     "output_type": "execute_result"
    }
   ],
   "source": [
    "gaurav.detail()"
   ]
  },
  {
   "cell_type": "markdown",
   "id": "aea879a9",
   "metadata": {},
   "source": [
    "# Q7.State a character used to give single-line comments in Python? \n"
   ]
  },
  {
   "cell_type": "markdown",
   "id": "9b5efbb1",
   "metadata": {},
   "source": [
    "Answer:- In Python, the '#' character is used to write single-line comments."
   ]
  },
  {
   "cell_type": "markdown",
   "id": "52e95ae7",
   "metadata": {},
   "source": [
    "# Q8.Mention functions which can help us to find the version of python that we are currently working on?"
   ]
  },
  {
   "cell_type": "markdown",
   "id": "47664fde",
   "metadata": {},
   "source": [
    "Answer:- The 'sys' module provides access to various variables and functions related to the Python runtime environment. You can use the sys.version attribute to get the Python version as a string.\n",
    "\n"
   ]
  },
  {
   "cell_type": "markdown",
   "id": "b2bcb60e",
   "metadata": {},
   "source": [
    "# Q9. Python supports the creation of anonymous functions at runtime, using a construct called \n"
   ]
  },
  {
   "cell_type": "markdown",
   "id": "c6425094",
   "metadata": {},
   "source": [
    "Answer:- Python supports the creation of anonymous functions at runtime using a construct called \"lambda\" functions."
   ]
  },
  {
   "cell_type": "markdown",
   "id": "8bf2d206",
   "metadata": {},
   "source": [
    "# Q10.What does pip stand for python? \n"
   ]
  },
  {
   "cell_type": "markdown",
   "id": "dcd8eae7",
   "metadata": {},
   "source": [
    "Answer:- In Python, \"pip\" stands for \"Pip Installs Packages\".It's a package manager used to install and manage external libraries and packages (also known as \"packages\" or \"modules\") that are not part of the Python standard library"
   ]
  },
  {
   "cell_type": "markdown",
   "id": "3296d501",
   "metadata": {},
   "source": [
    "# Q11. Mention a few built-in functions in python? "
   ]
  },
  {
   "cell_type": "markdown",
   "id": "8e4bcb02",
   "metadata": {},
   "source": [
    "Answer:- print(): Used to display output to the console.\n",
    "len(): Returns the length (number of items) of an object.\n",
    "input(): Reads input from the user through the console.\n",
    "type(): Returns the type of an object (e.g., int, str, list).\n",
    "int(): Converts a value to an integer.\n",
    "float(): Converts a value to a floating-point number.\n",
    "str(): Converts a value to a string.\n",
    "list(): Converts a value to a list.\n",
    "dict(): Creates a new dictionary.\n",
    "tuple(): Converts a value to a tuple.\n",
    "range(): Generates a sequence of numbers."
   ]
  },
  {
   "cell_type": "markdown",
   "id": "17eb2bf0",
   "metadata": {},
   "source": [
    "# Q12.  What are the benefits of using Python?\n"
   ]
  },
  {
   "cell_type": "markdown",
   "id": "1edd86e7",
   "metadata": {},
   "source": [
    "Answer:- The benefits of using Python include its easy-to-read syntax, versatility for different applications, extensive libraries, cross-platform compatibility, strong community support, rapid development capabilities, dynamic typing, and integration capabilities. Its open-source nature and support for multiple programming paradigms make it a popular and powerful choice for a wide range of development tasks.\n",
    "\n",
    "\n",
    "\n",
    "\n"
   ]
  },
  {
   "cell_type": "markdown",
   "id": "0a6184b3",
   "metadata": {},
   "source": [
    "# Q13. How is memory managed in Python? \n"
   ]
  },
  {
   "cell_type": "markdown",
   "id": "cccf779a",
   "metadata": {},
   "source": [
    "Answer:- Python manages memory automatically through reference counting and a garbage collector. It tracks references to objects and deallocates memory when objects are no longer in use. The garbage collector also handles circular references. Memory pools and optimizations improve memory allocation efficiency. Developers can use the 'del' statement and the 'gc' module for more control if needed."
   ]
  },
  {
   "cell_type": "markdown",
   "id": "ef4640db",
   "metadata": {},
   "source": [
    "# Q14. How to install Python on Windows and set path variables? 16. Is indentation required in python? \n"
   ]
  },
  {
   "cell_type": "markdown",
   "id": "7bcc07d0",
   "metadata": {},
   "source": [
    "Answer:-Installing Python:\n",
    "\n",
    "Download the Python installer from the official website.\n",
    "Run the installer and select \"Add Python x.x to PATH\" during installation.\n",
    "Complete the installation.\n",
    "Setting Up PATH Variables:\n",
    "\n",
    "Search for \"Environment Variables\" and open \"Edit the system environment variables.\"\n",
    "Click \"Environment Variables...\".\n",
    "Edit the \"Path\" variable.\n",
    "Add paths to Python's executable and Scripts directories.\n",
    "Save changes and verify Python and pip in Command Prompt."
   ]
  },
  {
   "cell_type": "markdown",
   "id": "3ad92169",
   "metadata": {},
   "source": [
    "# Q15.  Is indentation required in python? "
   ]
  },
  {
   "cell_type": "markdown",
   "id": "66ab24a8",
   "metadata": {},
   "source": [
    "Answer:- Yes, indentation is required in Python. It's used to define the structure of code blocks like loops, functions, and conditional statements. Correct indentation is crucial for proper syntax and code readability."
   ]
  }
 ],
 "metadata": {
  "kernelspec": {
   "display_name": "Python 3 (ipykernel)",
   "language": "python",
   "name": "python3"
  },
  "language_info": {
   "codemirror_mode": {
    "name": "ipython",
    "version": 3
   },
   "file_extension": ".py",
   "mimetype": "text/x-python",
   "name": "python",
   "nbconvert_exporter": "python",
   "pygments_lexer": "ipython3",
   "version": "3.9.13"
  }
 },
 "nbformat": 4,
 "nbformat_minor": 5
}
